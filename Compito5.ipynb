{
 "cells": [
  {
   "cell_type": "markdown",
   "id": "f11592ab",
   "metadata": {},
   "source": [
    "# Propagazione degli errori in misure correlate e simulazione di esperimento: spettrometro a prisma"
   ]
  },
  {
   "cell_type": "markdown",
   "id": "3e966493",
   "metadata": {},
   "source": [
    "### Compito 5 : Andrea Milici, Andrea Cosso, Andrea Parodi , Giovanni Besio, Mattia Rossi"
   ]
  },
  {
   "cell_type": "markdown",
   "id": "4a743f64",
   "metadata": {},
   "source": [
    "## Metodo 1: Monte Carlo"
   ]
  },
  {
   "cell_type": "markdown",
   "id": "0b7f218a",
   "metadata": {},
   "source": [
    "Assumiamo di usare un prisma di cui tutto quello che sappiamo sono i parametri A,B con i loro errori $\\sigma_A$,$\\sigma_B$ e la covarianza ,$ Cov[A,B] $, tra di loro. Supponendo di usare lo spettrometro progettato e misurando i seguenti angoli (differenze): $\\delta_1,\\delta_2,\\delta_3,\\delta_4,\\delta_5$.\n",
    "Da questi valori ricaviamo $\\lambda$ invertendo la relazione:\n"
   ]
  },
  {
   "cell_type": "markdown",
   "id": "caf24b4c",
   "metadata": {},
   "source": [
    "$$  n(\\theta,\\theta_0) = A + {B\\over \\lambda^2} $$"
   ]
  },
  {
   "cell_type": "markdown",
   "id": "51c2a52f",
   "metadata": {},
   "source": [
    "Per ricavare il valore di $R_H$ tramite fit ci serve innanzitutto calcolare gli errori sui $\\lambda$. I vari $\\lambda$ sono correlati tra di loro, dipendono tutti da A,B, $\\theta_0$. Per tenere conto della correlazione sfruttiamo il metodo di Monte Carlo generando A e B correlati (la cui correlazione è data), mentre $\\delta$ verrà generato secondo una distribuzione gaussiana di valor medio $\\delta=\\theta-\\theta_0$ e varianza  $\\sigma_{\\delta}^2 = \\frac{\\Delta_{\\delta}^2}{3}$.  <br> \n",
    "Ci siamo posti il problema su come generare A e B correlati partendo da due distribuzioni gaussiane indipendenti. Dopo vari tentativi siamo riusciti a trovare (Andrea Parodi ci è riuscito) una formula soddisfacente, di seguito riportiamo i calcoli:"
   ]
  },
  {
   "cell_type": "markdown",
   "id": "f6956ec6",
   "metadata": {},
   "source": [
    "Siano $x_1$ e $x_2$ le due distribuzioni di partenza, cerchiamo una combinazione lineare di $x_1$ e $x_2$ tale che: $$ A = ax_1+bx_2 $$\n",
    "$$ B = x_1 $$\n",
    "ora cerchiamo i coefficienti $a$ e $b$ tali che $A$ e $B$ abbiano la correlazione cercata:"
   ]
  },
  {
   "cell_type": "markdown",
   "id": "7558ca43",
   "metadata": {},
   "source": [
    "$$E[A] = \\bar{A}$$\n",
    "$$E[B] = \\bar{B} \\implies \\bar{x_1}=\\bar{B}$$\n",
    "$$VAR[A] = \\sigma_A^2$$\n",
    "$$VAR[B] = \\sigma_B^2 \\implies \\sigma_1^2 = \\sigma_B^2$$"
   ]
  },
  {
   "cell_type": "markdown",
   "id": "56a2a587",
   "metadata": {},
   "source": [
    "\n",
    "$COV[A,B] = COV[ax_1+bx_2,x_1]=a \\cdot COV[x_1,x_1]+b \\cdot COV[x_2,x_1]= a\\sigma_B^2 = \\rho \\implies a = \\rho\\frac{\\sigma_A}{\\sigma_B}$\n",
    "$E[ax_1+bx_2] = aE[x_1]+bE[x_2] = a\\bar{B}+b\\bar{x_2} = \\bar{A} \\implies \\bar{x_2} = \\frac{\\bar{A}-a\\bar{B}}{b}$\n",
    "$VAR[A] = E[A^2]- E[A]^2 = a^2 E[x_1^2]+b^2 E[x_2^2]+2a b E[x_1x_2]-\\bar{A}^2 = a^2(\\sigma_B^2+\\bar{B}^2)+b^2(\\sigma_2^2+\\bar{x_2}^2)+2ab\\bar{B}\\bar{x_2}-\\bar{A}^2 = \\sigma_A^2 \\implies \\sigma_2 = \\sqrt{\\frac{\\sigma_A^2-a^2\\sigma_B^2}{b^2}} = \\sigma_A \\frac{\\sqrt{1-\\rho^2}}{b}$\n",
    "Fisseremo d'ora in poi b=1."
   ]
  },
  {
   "cell_type": "markdown",
   "id": "738be892",
   "metadata": {},
   "source": [
    "Quindi, riassumendo: $$ A=\\rho \\frac{\\sigma_A}{\\sigma_B} x_1+x_2, \\hspace{0.5cm} \\sigma_2= \\sigma_A\\sqrt{1-\\rho^2}$$\n",
    "       $$ B= x_1, \\hspace{0.3cm} \\sigma_1=\\sigma_B $$"
   ]
  },
  {
   "cell_type": "markdown",
   "id": "aaee3cf8",
   "metadata": {},
   "source": [
    "In questo modo siamo quindi in grado di generare la distribuzione della funzione  $ \\lambda=\\lambda(A,B,\\theta,\\theta_0)$. Ricavati i $ \\sigma_{\\lambda_i} \\hspace{0.2cm} i=1,2,3,4,5$ tramite istogrammi (per esempio con TH1) e i \n",
    "valori medi $\\bar{\\lambda_i}$ plottiamo $ \\frac{1}{\\lambda}vs.\\frac{1}{m^2} $ e facciamo quindi un fit lineare da cui ricaviamo il coefficiente angolare che ci aspettiamo essere compatibile con $R_H$."
   ]
  },
  {
   "cell_type": "markdown",
   "id": "58d75dc0",
   "metadata": {},
   "source": [
    "Per una prima analisi questo metodo potrebbe andare bene tuttavia non ci sembra ancora completo perchè non tiene conto della correlazione tra i vari $\\lambda$. Per migliorare l'analisi abbiamo pensato di generare N volte A,B (col metodo precedente),$\\delta$ da cui nella stessa iterazione calcoliamo tutti i $\\lambda_i,i=1,2,3,4,5$; con questi $\\lambda$ facciamo lo stesso fit lineare di prima da cui ricaviamo un valore di $R_H$. Alla  fine di questa procedura ci ritroveremo con N valori di $R_H$ con cui costruire un istogramma da cui ricavare valor medio e deviazione standard. Questo metodo ha il vantaggio che i $\\lambda$ di ogni iterazione, provenendo dagli stessi parametri, seguono le loro correlazioni seppur perdendo l'informazione "
   ]
  },
  {
   "cell_type": "markdown",
   "id": "320c14b2",
   "metadata": {},
   "source": [
    "## Metodo 2: Formula"
   ]
  },
  {
   "cell_type": "markdown",
   "id": "7fe47b51",
   "metadata": {},
   "source": [
    "Un altro modo per calcolare l'errore su $\\lambda$ è usando la formula di propagazione degli errori con i termini aggiuntivi dovuti alla presenza di correlazione tra A e B. Sicuramente questo approccio sarà meno efficace del precedente in quanto sfrutta un'approssimazione lineare della funzione.  La matrice di covarianza è: $$ \n",
    "\\begin{bmatrix}\n",
    "\\sigma_A^2 & cov[A,B] & 0 \\\\\n",
    "cov[A,B] & \\sigma_B^2 & 0 \\\\\n",
    "0 & 0 & \\sigma_{\\delta}^2 \\\\\n",
    "\\end{bmatrix} $$\n"
   ]
  },
  {
   "cell_type": "markdown",
   "id": "2f35adcb",
   "metadata": {},
   "source": [
    "$\\sigma"
   ]
  }
 ],
 "metadata": {
  "kernelspec": {
   "display_name": "Python 3 (ipykernel)",
   "language": "python",
   "name": "python3"
  },
  "language_info": {
   "codemirror_mode": {
    "name": "ipython",
    "version": 3
   },
   "file_extension": ".py",
   "mimetype": "text/x-python",
   "name": "python",
   "nbconvert_exporter": "python",
   "pygments_lexer": "ipython3",
   "version": "3.8.10"
  }
 },
 "nbformat": 4,
 "nbformat_minor": 5
}
