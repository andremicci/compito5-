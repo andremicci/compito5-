{
 "cells": [
  {
   "cell_type": "markdown",
   "id": "f11592ab",
   "metadata": {},
   "source": [
    "# Propagazione degli errori in misure correlate e simulazione di esperimento: spettrometro a prisma"
   ]
  },
  {
   "cell_type": "markdown",
   "id": "4096a90c",
   "metadata": {},
   "source": [
    "### Compito 5 : Andrea Milici, Andrea Cosso, Andrea Parodi , Giovanni Besio, Mattia Rossi"
   ]
  },
  {
   "cell_type": "markdown",
   "id": "0eb3772e",
   "metadata": {},
   "source": [
    "## Metodo 1: Monte Carlo"
   ]
  },
  {
   "cell_type": "markdown",
   "id": "0b7f218a",
   "metadata": {},
   "source": [
    "Assumiamo di usare un prisma di cui tutto quello che sappiamo sono i parametri A,B con i loro errori e la covarianza ,$ Cov[A,B] $, tra di loro. Supponendo di usare lo spettrometro progettato e misurando i seguenti angoli (differenze): $\\delta_1,\\delta_2,\\delta_3,\\delta_4,\\delta_5$.\n",
    "Da questi valori ricaviamo $\\lambda$ invertendo la relazione:\n"
   ]
  },
  {
   "cell_type": "markdown",
   "id": "e1297bac",
   "metadata": {},
   "source": [
    "$$  n(\\theta,\\theta_0) = A + {B\\over \\lambda^2} $$"
   ]
  },
  {
   "cell_type": "markdown",
   "id": "51c2a52f",
   "metadata": {},
   "source": [
    "Per ricavare il valore di $R_H$ tramite fit ci serve innanzitutto calcolare gli errori sui $\\lambda$. I vari $\\lambda$ sono correlati tra di loro, dipendono tutti da A,B, $\\theta_0$. Per tenere conto della correlazione sfruttiamo il metodo di Monte Carlo generando A e B correlati (la cui correlazione è data), mentre $\\theta_0$ verrà generato secondo una distribuzione gaussiana di valor medio $\\delta=\\theta-\\theta_0$ e varianza  $\\sigma_{\\delta}^2 = \\frac{\\Delta_{\\delta}^2}{3}$. Per generare A e B correlati ci avvaliamo di una relazione trovata online. Abbiamo provato a ricavare una relazione fra due generiche distribuzioni (da noi presupposte gaussiane) che desse come risultato due variabili correlate con correlazione data ma non abbiamo avuto alcun successo, di seguito i calcoli (sbagliati) che abbiamo prodotto: "
   ]
  },
  {
   "cell_type": "markdown",
   "id": "f6956ec6",
   "metadata": {},
   "source": []
  },
  {
   "cell_type": "markdown",
   "id": "77719048",
   "metadata": {},
   "source": [
    "Mentre la relazione corretta trovata online sfrutta due gaussiane di varianza unitaria $x_1,x_2$ e medie $\\mu_1,\\mu_2$: $$  A=\\sigma_A(\\sqrt{1-\\rho^2}x_1+\\rho x_2)+\\bar{A} \\hspace{1cm} B=\\sigma_B x_2+\\bar{B}$$"
   ]
  },
  {
   "cell_type": "markdown",
   "id": "aaee3cf8",
   "metadata": {},
   "source": [
    "In questo modo siamo quindi in grado di generare la distribuzione della funzione  $ \\lambda=\\lambda(A,B,\\theta,\\theta_0)$. Ricavati i $ \\sigma_{\\lambda_i} \\hspace{0.2cm} i=1,2,3,4,5$ tramite istogrammi (per esempio con TH1) e i \n",
    "    valori medi $\\bar{\\lambda_i}$. A questo punto plottiamo $ \\frac{1}{\\lambda}vs.\\frac{1}{m^2} $ e facciamo quindi un fit lineare da cui ricaviamo il coefficiente angolare che ci aspettiamo essere compatibile con $R_H$"
   ]
  },
  {
   "cell_type": "markdown",
   "id": "d8415461",
   "metadata": {},
   "source": [
    "## Metodo 2: Formula"
   ]
  },
  {
   "cell_type": "markdown",
   "id": "f1c1ca63",
   "metadata": {},
   "source": [
    "Un altro modo per calcolare l'errore su $\\lambda$ è usando la formula di propagazione degli errori con i termini aggiuntivi dovuti alla presenza di correlazione tra A e B. La matrice di covarianza è: $$ \n",
    "\\begin{bmatrix}\n",
    "\\sigma_A^2 & cov[A,B] & 0 \\\\\n",
    "cov[A,B] & \\sigma_B^2 & 0 \\\\\n",
    "0 & 0 & \\sigma_{\\delta}^2 \\\\\n",
    "\\end{bmatrix} $$"
   ]
  },
  {
   "cell_type": "code",
   "execution_count": 1,
   "id": "78fed179",
   "metadata": {},
   "outputs": [],
   "source": []
  }
 ],
 "metadata": {
  "kernelspec": {
   "display_name": "Python 3 (ipykernel)",
   "language": "python",
   "name": "python3"
  },
  "language_info": {
   "codemirror_mode": {
    "name": "ipython",
    "version": 3
   },
   "file_extension": ".py",
   "mimetype": "text/x-python",
   "name": "python",
   "nbconvert_exporter": "python",
   "pygments_lexer": "ipython3",
   "version": "3.8.10"
  }
 },
 "nbformat": 4,
 "nbformat_minor": 5
}
